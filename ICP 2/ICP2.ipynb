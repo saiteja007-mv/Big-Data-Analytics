{
  "nbformat": 4,
  "nbformat_minor": 0,
  "metadata": {
    "colab": {
      "provenance": []
    },
    "kernelspec": {
      "name": "python3",
      "display_name": "Python 3"
    },
    "language_info": {
      "name": "python"
    }
  },
  "cells": [
    {
      "cell_type": "markdown",
      "source": [
        "# **Question 1**"
      ],
      "metadata": {
        "id": "Ds0IYBTtHtdm"
      }
    },
    {
      "cell_type": "code",
      "source": [
        "class Counter:\n",
        "  count = 0\n",
        "\n",
        "  def __init__(self):\n",
        "    self.count = 0\n",
        "\n",
        "  def increment(self):\n",
        "    self.count += 1\n",
        "    Counter.count += 1\n",
        "\n",
        "  def get_counts(self):\n",
        "    return f\"Instance count: {self.count}, Class Count: {Counter.count}\"\n",
        "\n",
        "a = Counter()\n",
        "b = Counter()\n",
        "c = Counter()\n",
        "\n",
        "print(a.increment())\n",
        "print(c.increment())\n",
        "\n",
        "c.get_counts()"
      ],
      "metadata": {
        "colab": {
          "base_uri": "https://localhost:8080/",
          "height": 70
        },
        "id": "xIDettYjHg1S",
        "outputId": "1cfffe92-2bc7-47d5-fe5b-340154285ed4"
      },
      "execution_count": 41,
      "outputs": [
        {
          "output_type": "stream",
          "name": "stdout",
          "text": [
            "None\n",
            "None\n"
          ]
        },
        {
          "output_type": "execute_result",
          "data": {
            "text/plain": [
              "'Instance count: 1, Class Count: 2'"
            ],
            "application/vnd.google.colaboratory.intrinsic+json": {
              "type": "string"
            }
          },
          "metadata": {},
          "execution_count": 41
        }
      ]
    },
    {
      "cell_type": "markdown",
      "source": [
        "The difference between Counter and count is Counter.count is a class variable, _count is a instance variable."
      ],
      "metadata": {
        "id": "C51DOtZXNYBX"
      }
    },
    {
      "cell_type": "markdown",
      "source": [
        "# **Question 2**"
      ],
      "metadata": {
        "id": "Ax94ptmyHqwq"
      }
    },
    {
      "cell_type": "code",
      "execution_count": 42,
      "metadata": {
        "colab": {
          "base_uri": "https://localhost:8080/"
        },
        "id": "1oApDBsQHMaG",
        "outputId": "18ce5f5f-164e-4e3f-b561-827d7278669e"
      },
      "outputs": [
        {
          "output_type": "stream",
          "name": "stdout",
          "text": [
            "Sum of 1, 2, 3 is: 6\n",
            "Sum of 4, 5, 6, 7 is: 22\n"
          ]
        }
      ],
      "source": [
        "def sum_all(*args):\n",
        "    return sum(args)\n",
        "\n",
        "print(\"Sum of 1, 2, 3 is:\", sum_all(1, 2, 3))\n",
        "print(\"Sum of 4, 5, 6, 7 is:\", sum_all(4, 5, 6, 7))"
      ]
    },
    {
      "cell_type": "markdown",
      "source": [
        "# **Question 3**"
      ],
      "metadata": {
        "id": "9snM5EnHHwh9"
      }
    },
    {
      "cell_type": "code",
      "source": [
        "def first_word(word_list):\n",
        "  word_list.sort()\n",
        "  return word_list[0]\n",
        "\n",
        "students = ['Mary', 'Zelda', 'Jimmy', 'Jack', 'Bartholomew', 'Gertrude']\n",
        "first = first_word(students)\n",
        "first"
      ],
      "metadata": {
        "colab": {
          "base_uri": "https://localhost:8080/",
          "height": 35
        },
        "id": "6Ka7AqaNHyIN",
        "outputId": "1edccdd5-2ea5-4e60-ad44-ef27d3adafed"
      },
      "execution_count": 43,
      "outputs": [
        {
          "output_type": "execute_result",
          "data": {
            "text/plain": [
              "'Bartholomew'"
            ],
            "application/vnd.google.colaboratory.intrinsic+json": {
              "type": "string"
            }
          },
          "metadata": {},
          "execution_count": 43
        }
      ]
    },
    {
      "cell_type": "markdown",
      "source": [
        "# **Question 4**"
      ],
      "metadata": {
        "id": "EZFzbkBfIMND"
      }
    },
    {
      "cell_type": "code",
      "source": [
        "class Employee:\n",
        "  no_of_employees = 0\n",
        "  total_salary = 0\n",
        "  def __init__(self, name, family, salary, department):\n",
        "    self.name = name\n",
        "    self.family = family\n",
        "    self.salary = salary\n",
        "    self.department = department\n",
        "\n",
        "    Employee.no_of_employees += 1\n",
        "    Employee.total_salary += salary\n",
        "\n",
        "  def average_salary():\n",
        "    return Employee.total_salary / Employee.no_of_employees\n",
        "\n",
        "  def display_employee(self):\n",
        "    print(f\"Name: {self.name}, Family: {self.family}, Salary: ${self.salary}, Department: {self.department}\")\n",
        "\n",
        "class FulltimeEmployee(Employee):\n",
        "  def __init__(self, name, family, salary, department, benefits):\n",
        "    super().__init__(name, family, salary, department)\n",
        "\n",
        "  def display_employee(self):\n",
        "    super().display_employee()\n",
        "    print(f\"Benefits: {self.benefits}\")\n",
        "\n",
        "\n",
        "Emp1 = Employee(\"Bobby\", \"Dean\", 980000, \"Software\")\n",
        "Emp2 = Employee(\"Jane\", \"foster\", 897000, \"AI Engineer\")\n",
        "\n",
        "Emp1.display_employee()\n",
        "Emp2.display_employee()\n",
        "print(Employee.average_salary())"
      ],
      "metadata": {
        "colab": {
          "base_uri": "https://localhost:8080/"
        },
        "id": "Nr4mUHjvJTTE",
        "outputId": "829ec109-a3e1-4436-a897-da539656083a"
      },
      "execution_count": 44,
      "outputs": [
        {
          "output_type": "stream",
          "name": "stdout",
          "text": [
            "Name: Bobby, Family: Dean, Salary: $980000, Department: Software\n",
            "Name: Jane, Family: foster, Salary: $897000, Department: AI Engineer\n",
            "938500.0\n"
          ]
        }
      ]
    },
    {
      "cell_type": "code",
      "source": [],
      "metadata": {
        "id": "yzeIZAngMbLS"
      },
      "execution_count": null,
      "outputs": []
    }
  ]
}