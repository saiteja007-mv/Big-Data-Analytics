{
  "nbformat": 4,
  "nbformat_minor": 0,
  "metadata": {
    "colab": {
      "provenance": []
    },
    "kernelspec": {
      "name": "python3",
      "display_name": "Python 3"
    },
    "language_info": {
      "name": "python"
    }
  },
  "cells": [
    {
      "cell_type": "markdown",
      "source": [
        "# **Question 5 A**"
      ],
      "metadata": {
        "id": "Izow6RV05rGC"
      }
    },
    {
      "cell_type": "code",
      "source": [
        "python_list = []\n",
        "input_string = input(\"Enter the string 'Python': \")\n",
        "\n",
        "for char in input_string:\n",
        "  python_list.append(char)\n",
        "\n",
        "del python_list[4]\n",
        "del python_list[4]\n",
        "\n",
        "\n",
        "reversed_list = python_list[::-1]\n",
        "\n",
        "reversed_string = \"\".join(reversed_list)\n",
        "reversed_string\n"
      ],
      "metadata": {
        "colab": {
          "base_uri": "https://localhost:8080/",
          "height": 53
        },
        "id": "7aSQb_gp3_4L",
        "outputId": "617f67e6-e082-4149-eb7b-1788b768f54d"
      },
      "execution_count": null,
      "outputs": [
        {
          "name": "stdout",
          "output_type": "stream",
          "text": [
            "Enter the string 'Python': Python\n"
          ]
        },
        {
          "output_type": "execute_result",
          "data": {
            "text/plain": [
              "'htyP'"
            ],
            "application/vnd.google.colaboratory.intrinsic+json": {
              "type": "string"
            }
          },
          "metadata": {},
          "execution_count": 11
        }
      ]
    },
    {
      "cell_type": "markdown",
      "source": [
        "# **Question 5 B**"
      ],
      "metadata": {
        "id": "fh4AR46S5xGp"
      }
    },
    {
      "cell_type": "code",
      "source": [
        "num1 = float(input(\"Enter the first number: \"))\n",
        "num2 = float(input(\"Enter the second number: \"))\n",
        "\n",
        "# Addition\n",
        "sum_result = num1 + num2\n",
        "print(f\"{num1} + {num2} = {sum_result}\")\n",
        "\n",
        "# Subtraction\n",
        "difference_result = num1 - num2\n",
        "print(f\"{num1} - {num2} = {difference_result}\")\n",
        "\n",
        "# Multiplication\n",
        "product_result = num1 * num2\n",
        "print(f\"{num1} * {num2} = {product_result}\")\n",
        "\n",
        "# Division\n",
        "if num2 != 0:\n",
        "  division_result = num1 / num2\n",
        "  print(f\"{num1} / {num2} = {division_result}\")\n",
        "else:\n",
        "  print(\"Cannot divide by zero.\")"
      ],
      "metadata": {
        "colab": {
          "base_uri": "https://localhost:8080/"
        },
        "id": "Z2YHcuGw4mb9",
        "outputId": "ee3a17e9-1670-4dfb-9626-b6c2c3927a86"
      },
      "execution_count": null,
      "outputs": [
        {
          "output_type": "stream",
          "name": "stdout",
          "text": [
            "Enter the first number: 3\n",
            "Enter the second number: 4\n",
            "3.0 + 4.0 = 7.0\n",
            "3.0 - 4.0 = -1.0\n",
            "3.0 * 4.0 = 12.0\n",
            "3.0 / 4.0 = 0.75\n"
          ]
        }
      ]
    },
    {
      "cell_type": "markdown",
      "source": [
        "# **Question 6**"
      ],
      "metadata": {
        "id": "zLBi-jFF51ZY"
      }
    },
    {
      "cell_type": "code",
      "source": [
        "sentence = input(\"Enter a sentence: \")\n",
        "modified_sentence = sentence.replace('python', 'pythons')\n",
        "modified_sentence"
      ],
      "metadata": {
        "colab": {
          "base_uri": "https://localhost:8080/",
          "height": 53
        },
        "id": "bR1IR3Wu4u62",
        "outputId": "d89b6406-1b28-415f-8ba7-f85eef639bcd"
      },
      "execution_count": null,
      "outputs": [
        {
          "name": "stdout",
          "output_type": "stream",
          "text": [
            "Enter a sentence: I love playing with python\n"
          ]
        },
        {
          "output_type": "execute_result",
          "data": {
            "text/plain": [
              "'I love playing with pythons'"
            ],
            "application/vnd.google.colaboratory.intrinsic+json": {
              "type": "string"
            }
          },
          "metadata": {},
          "execution_count": 13
        }
      ]
    },
    {
      "cell_type": "markdown",
      "source": [
        "# **Question 7**"
      ],
      "metadata": {
        "id": "lRzPS1ZH5_ZR"
      }
    },
    {
      "cell_type": "code",
      "source": [
        "score = int(input(\"Enter the class score: \"))\n",
        "\n",
        "if score >= 90:\n",
        "    print(\"A\")\n",
        "elif score >= 80:\n",
        "    print(\"B\")\n",
        "elif score >= 70:\n",
        "    print(\"C\")\n",
        "elif score >= 60:\n",
        "    print(\"D\")\n",
        "else:\n",
        "    print(\"F\")"
      ],
      "metadata": {
        "colab": {
          "base_uri": "https://localhost:8080/"
        },
        "id": "R2k9uM8Y43DX",
        "outputId": "d7625009-9096-4b47-afc8-180cfad11d29"
      },
      "execution_count": null,
      "outputs": [
        {
          "output_type": "stream",
          "name": "stdout",
          "text": [
            "Enter the class score: 55\n",
            "F\n"
          ]
        }
      ]
    },
    {
      "cell_type": "markdown",
      "source": [
        "# **Question 8**"
      ],
      "metadata": {
        "id": "tWJDyiFS6EQ2"
      }
    },
    {
      "cell_type": "code",
      "source": [
        "x = [23, 'Python', 23.98]\n",
        "print(x)\n",
        "types = []\n",
        "for item in x:\n",
        "  types.append(type(item))\n",
        "types"
      ],
      "metadata": {
        "colab": {
          "base_uri": "https://localhost:8080/"
        },
        "id": "sl5jYljB49k-",
        "outputId": "db3060cb-46c3-4f2b-ab3d-914dd262381e"
      },
      "execution_count": null,
      "outputs": [
        {
          "output_type": "stream",
          "name": "stdout",
          "text": [
            "[23, 'Python', 23.98]\n"
          ]
        },
        {
          "output_type": "execute_result",
          "data": {
            "text/plain": [
              "[int, str, float]"
            ]
          },
          "metadata": {},
          "execution_count": 15
        }
      ]
    },
    {
      "cell_type": "markdown",
      "source": [
        "# **Question 9**"
      ],
      "metadata": {
        "id": "u-1UwCF96HAB"
      }
    },
    {
      "cell_type": "code",
      "source": [
        "IT_companies = {'Facebook', 'Google', 'Microsoft', 'Apple', 'IBM', 'Oracle', 'Amazon'}\n",
        "A = {19, 22, 24, 20, 25, 26}\n",
        "B = {19, 22, 20, 25, 26, 24, 28, 27}\n",
        "age = [22, 19, 24, 25, 26, 24, 25, 24]\n",
        "\n",
        "# Find the length of the set IT_companies\n",
        "print(len(IT_companies))\n",
        "\n",
        "# Add 'Twitter' to IT_companies\n",
        "IT_companies.add('Twitter')\n",
        "print(IT_companies)\n",
        "\n",
        "# Insert multiple IT companies at once to the set IT_companies\n",
        "new_companies = {'Netflix', 'LinkedIn'}\n",
        "IT_companies.update(new_companies)\n",
        "print(IT_companies)\n",
        "\n",
        "# Remove one of the companies from the set IT_companies\n",
        "IT_companies.remove('Oracle')\n",
        "print(IT_companies)\n",
        "\n",
        "# What is the difference between remove and discard\n",
        "# remove will raise a KeyError if the item is not found, discard will not.\n",
        "IT_companies.discard('IBM')\n",
        "print(IT_companies)\n",
        "# Example of discard (assuming 'Yahoo' is not in the set):\n",
        "IT_companies.discard('Yahoo')\n",
        "print(IT_companies)\n",
        "# Example of remove (will raise KeyError if 'Yahoo' is not in the set):\n",
        "# IT_companies.remove('Yahoo') # Uncomment to see the error\n",
        "\n",
        "# Join A and B\n",
        "print(A.union(B))\n",
        "\n",
        "# Find A intersection B\n",
        "print(A.intersection(B))\n",
        "\n",
        "# Is A subset of B\n",
        "print(A.issubset(B))\n",
        "\n",
        "# Are A and B disjoint sets\n",
        "print(A.isdisjoint(B))\n",
        "\n",
        "# Join A with B and B with A\n",
        "print(A.union(B))\n",
        "print(B.union(A))\n",
        "\n",
        "# What is the symmetric difference between A and B\n",
        "print(A.symmetric_difference(B))\n",
        "\n",
        "# Delete the sets completely\n",
        "del IT_companies\n",
        "del A\n",
        "del B\n",
        "\n",
        "# Convert the ages to a set and compare the length of the list and the set.\n",
        "age_set = set(age)\n",
        "print(\"Length of age list:\", len(age))\n",
        "print(\"Length of age set:\", len(age_set))\n",
        "print(\"Ages list:\", age)\n",
        "print(\"Ages set:\", age_set)"
      ],
      "metadata": {
        "id": "uVKa9Nuv5EHU",
        "colab": {
          "base_uri": "https://localhost:8080/",
          "height": 0
        },
        "outputId": "934eadd0-00ff-4291-a196-2ccad56d4907"
      },
      "execution_count": 17,
      "outputs": [
        {
          "output_type": "stream",
          "name": "stdout",
          "text": [
            "7\n",
            "{'IBM', 'Microsoft', 'Oracle', 'Google', 'Apple', 'Facebook', 'Twitter', 'Amazon'}\n",
            "{'IBM', 'LinkedIn', 'Microsoft', 'Google', 'Apple', 'Twitter', 'Amazon', 'Netflix', 'Oracle', 'Facebook'}\n",
            "{'IBM', 'LinkedIn', 'Microsoft', 'Google', 'Apple', 'Twitter', 'Amazon', 'Netflix', 'Facebook'}\n",
            "{'LinkedIn', 'Microsoft', 'Google', 'Apple', 'Twitter', 'Amazon', 'Netflix', 'Facebook'}\n",
            "{'LinkedIn', 'Microsoft', 'Google', 'Apple', 'Twitter', 'Amazon', 'Netflix', 'Facebook'}\n",
            "{19, 20, 22, 24, 25, 26, 27, 28}\n",
            "{19, 20, 22, 24, 25, 26}\n",
            "True\n",
            "False\n",
            "{19, 20, 22, 24, 25, 26, 27, 28}\n",
            "{19, 20, 22, 24, 25, 26, 27, 28}\n",
            "{27, 28}\n",
            "Length of age list: 8\n",
            "Length of age set: 5\n",
            "Ages list: [22, 19, 24, 25, 26, 24, 25, 24]\n",
            "Ages set: {19, 22, 24, 25, 26}\n"
          ]
        }
      ]
    },
    {
      "cell_type": "code",
      "source": [],
      "metadata": {
        "id": "XrlvQ0dz5fnD"
      },
      "execution_count": null,
      "outputs": []
    }
  ]
}