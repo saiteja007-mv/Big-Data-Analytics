{
  "nbformat": 4,
  "nbformat_minor": 0,
  "metadata": {
    "colab": {
      "provenance": []
    },
    "kernelspec": {
      "name": "python3",
      "display_name": "Python 3"
    },
    "language_info": {
      "name": "python"
    }
  },
  "cells": [
    {
      "cell_type": "code",
      "source": [
        "import numpy as np"
      ],
      "metadata": {
        "id": "Mq2OTHgc25-r"
      },
      "execution_count": null,
      "outputs": []
    },
    {
      "cell_type": "markdown",
      "source": [
        "# **1. Numpy:**\n",
        "a. Using NumPy create random vector of size 15 having only Integers in the range 1-20.\n",
        "1. Reshape the array to 3 by 5\n",
        "2. Print array shape.\n",
        "3. Replace the max in each row by 0\n"
      ],
      "metadata": {
        "id": "UwXXex7x2bLG"
      }
    },
    {
      "cell_type": "code",
      "source": [
        "import numpy as np\n",
        "random_vector = np.random.randint(1,21,size=15)"
      ],
      "metadata": {
        "id": "zvzDWUXf2gGx"
      },
      "execution_count": null,
      "outputs": []
    },
    {
      "cell_type": "code",
      "source": [
        "random_vector"
      ],
      "metadata": {
        "colab": {
          "base_uri": "https://localhost:8080/"
        },
        "id": "N9JQ6q5K3ATn",
        "outputId": "0cf645ce-3f40-4788-fe9a-190e419a1627"
      },
      "execution_count": null,
      "outputs": [
        {
          "output_type": "execute_result",
          "data": {
            "text/plain": [
              "array([11, 17,  7, 15,  4, 10, 13,  3,  3, 18, 20,  2, 18, 13,  3])"
            ]
          },
          "metadata": {},
          "execution_count": 38
        }
      ]
    },
    {
      "cell_type": "code",
      "source": [
        "reshaped_vector = random_vector.reshape(3,5)"
      ],
      "metadata": {
        "id": "u-9aXYLg3C_X"
      },
      "execution_count": null,
      "outputs": []
    },
    {
      "cell_type": "code",
      "source": [
        "reshaped_vector.shape"
      ],
      "metadata": {
        "colab": {
          "base_uri": "https://localhost:8080/"
        },
        "id": "uVmy8kVh3Gc-",
        "outputId": "24cd90fd-8f29-4a9b-8203-a1225145c15c"
      },
      "execution_count": null,
      "outputs": [
        {
          "output_type": "execute_result",
          "data": {
            "text/plain": [
              "(3, 5)"
            ]
          },
          "metadata": {},
          "execution_count": 40
        }
      ]
    },
    {
      "cell_type": "code",
      "source": [
        "print(reshaped_vector)"
      ],
      "metadata": {
        "colab": {
          "base_uri": "https://localhost:8080/"
        },
        "id": "_gR9-i0E5nxb",
        "outputId": "0893082d-b480-482c-c211-eceb8d79141b"
      },
      "execution_count": null,
      "outputs": [
        {
          "output_type": "stream",
          "name": "stdout",
          "text": [
            "[[11 17  7 15  4]\n",
            " [10 13  3  3 18]\n",
            " [20  2 18 13  3]]\n"
          ]
        }
      ]
    },
    {
      "cell_type": "code",
      "source": [
        "vector_replaced_with_Zero = np.where(reshaped_vector == np.max(reshaped_vector,axis=1,keepdims=True),0,reshaped_vector)"
      ],
      "metadata": {
        "id": "WOjqJ3p43NsI"
      },
      "execution_count": null,
      "outputs": []
    },
    {
      "cell_type": "code",
      "source": [
        "vector_replaced_with_Zero"
      ],
      "metadata": {
        "colab": {
          "base_uri": "https://localhost:8080/"
        },
        "id": "Eu6bK6M84sa-",
        "outputId": "552b6648-b86e-497d-927d-66c8a022de35"
      },
      "execution_count": null,
      "outputs": [
        {
          "output_type": "execute_result",
          "data": {
            "text/plain": [
              "array([[11,  0,  7, 15,  4],\n",
              "       [10, 13,  3,  3,  0],\n",
              "       [ 0,  2, 18, 13,  3]])"
            ]
          },
          "metadata": {},
          "execution_count": 43
        }
      ]
    },
    {
      "cell_type": "markdown",
      "source": [
        "b. Create a 2-dimensional array of size 4 x 3 (composed of 4-byte integer elements), also print the shape, type and data\n",
        "type of the array."
      ],
      "metadata": {
        "id": "rTEHjCep2lUx"
      }
    },
    {
      "cell_type": "code",
      "source": [
        "array_2d = np.random.randint(1,21,size=(4,3),dtype=np.int32)"
      ],
      "metadata": {
        "id": "oLuS3i6y2uaQ"
      },
      "execution_count": null,
      "outputs": []
    },
    {
      "cell_type": "code",
      "source": [
        "array_2d.shape"
      ],
      "metadata": {
        "colab": {
          "base_uri": "https://localhost:8080/"
        },
        "id": "Qs1Sr8gU33SD",
        "outputId": "355426c1-e7d5-4302-a848-a588cda4b44e"
      },
      "execution_count": null,
      "outputs": [
        {
          "output_type": "execute_result",
          "data": {
            "text/plain": [
              "(4, 3)"
            ]
          },
          "metadata": {},
          "execution_count": 45
        }
      ]
    },
    {
      "cell_type": "code",
      "source": [
        "array_2d.dtype"
      ],
      "metadata": {
        "colab": {
          "base_uri": "https://localhost:8080/"
        },
        "id": "M51L8SlP36WI",
        "outputId": "cfea9182-a966-44a4-9a28-3ce5bbb85880"
      },
      "execution_count": null,
      "outputs": [
        {
          "output_type": "execute_result",
          "data": {
            "text/plain": [
              "dtype('int32')"
            ]
          },
          "metadata": {},
          "execution_count": 46
        }
      ]
    },
    {
      "cell_type": "markdown",
      "source": [
        "c. Write a program to compute the eigenvalues and right eigenvectors of a given square array given below:\n",
        "[[ 3 -2]\n",
        "[ 1 0]]"
      ],
      "metadata": {
        "id": "F8oDv1wn2nwh"
      }
    },
    {
      "cell_type": "code",
      "source": [
        "square_array = np.array([[3,-2],[1,0]])\n",
        "eigenvalues,eigenvectors = np.linalg.eig(square_array)\n",
        "print(eigenvalues)\n",
        "print(eigenvectors)"
      ],
      "metadata": {
        "colab": {
          "base_uri": "https://localhost:8080/"
        },
        "id": "wGqk7ZhB2uxG",
        "outputId": "b7d52bf6-aab8-4582-f2f6-7b9a55737179"
      },
      "execution_count": null,
      "outputs": [
        {
          "output_type": "stream",
          "name": "stdout",
          "text": [
            "[2. 1.]\n",
            "[[0.89442719 0.70710678]\n",
            " [0.4472136  0.70710678]]\n"
          ]
        }
      ]
    },
    {
      "cell_type": "markdown",
      "source": [
        "d. Compute the sum of the diagonal element of a given array.\n",
        "[[0 1 2]\n",
        "[3 4 5]]"
      ],
      "metadata": {
        "id": "0IiDVgi42qLw"
      }
    },
    {
      "cell_type": "code",
      "source": [
        "array_diag = np.array([[0,1,2],[3,4,5]])\n",
        "print(array_diag)\n",
        "np.trace(array_diag)"
      ],
      "metadata": {
        "colab": {
          "base_uri": "https://localhost:8080/"
        },
        "id": "Z5reCpLp2vZG",
        "outputId": "797808f4-d1fa-4c14-e6c0-48a4c9f04238"
      },
      "execution_count": null,
      "outputs": [
        {
          "output_type": "stream",
          "name": "stdout",
          "text": [
            "[[0 1 2]\n",
            " [3 4 5]]\n"
          ]
        },
        {
          "output_type": "execute_result",
          "data": {
            "text/plain": [
              "np.int64(4)"
            ]
          },
          "metadata": {},
          "execution_count": 48
        }
      ]
    },
    {
      "cell_type": "markdown",
      "source": [
        "e. Write a NumPy program to create a new shape to an array without changing its data.\n",
        "Reshape 3x2:\n",
        "[[1 2]\n",
        "[3 4]\n",
        "[5 6]]\n",
        "Reshape 2x3:\n",
        "[[1 2 3]\n",
        "[4 5 6]]"
      ],
      "metadata": {
        "id": "IR4p_egV2swr"
      }
    },
    {
      "cell_type": "code",
      "source": [
        "array_3x2 = np.array([[1, 2],[3, 4],[5, 6]])\n",
        "print(array_3x2)\n",
        "array_2x3 = array_3x2.reshape(2, 3)\n",
        "print(array_2x3)"
      ],
      "metadata": {
        "colab": {
          "base_uri": "https://localhost:8080/"
        },
        "id": "UGa6Jm5R2the",
        "outputId": "8d4f3fa0-1fac-4ff0-b62b-e9e4ce3e4a3a"
      },
      "execution_count": null,
      "outputs": [
        {
          "output_type": "stream",
          "name": "stdout",
          "text": [
            "[[1 2]\n",
            " [3 4]\n",
            " [5 6]]\n",
            "[[1 2 3]\n",
            " [4 5 6]]\n"
          ]
        }
      ]
    },
    {
      "cell_type": "markdown",
      "source": [
        "[https://drive.google.com/file/d/1WXRLZY1AxhxyWahpj9b7Qi2T7lBRB2yr/view?usp=sharing](https://drive.google.com/file/d/1WXRLZY1AxhxyWahpj9b7Qi2T7lBRB2yr/view?usp=sharing)"
      ],
      "metadata": {
        "id": "MtNG95oVMIjA"
      }
    },
    {
      "cell_type": "code",
      "source": [],
      "metadata": {
        "id": "rxUUBtHo5UWz"
      },
      "execution_count": null,
      "outputs": []
    }
  ]
}